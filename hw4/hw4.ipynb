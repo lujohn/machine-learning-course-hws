{
 "cells": [
  {
   "cell_type": "markdown",
   "metadata": {},
   "source": [
    "# Problem 1: Shattering and VC Dimension"
   ]
  },
  {
   "cell_type": "markdown",
   "metadata": {},
   "source": [
    "## 1) T($a+bx_1$)"
   ]
  },
  {
   "cell_type": "markdown",
   "metadata": {},
   "source": [
    "This classifer is a vertical line in $x_1,x_2$ space. It is clear that such a classifer can only shatter (a) and (b)."
   ]
  },
  {
   "cell_type": "markdown",
   "metadata": {},
   "source": [
    "## 2) T($a + bx_1 + cx_2$)"
   ]
  },
  {
   "cell_type": "markdown",
   "metadata": {},
   "source": [
    "This classifer can shatter (a), (b) and (c).\n",
    "\n",
    "(d) cannot be shattered. Consider the case where $\\{(2,2),(8,6)\\}$ belong to class 0 and $\\{(6,4), (4,8)\\}$ belong to class 1 - no line can separate the two classes in this case."
   ]
  },
  {
   "cell_type": "markdown",
   "metadata": {},
   "source": [
    "## 3) T($(x_1-a)^2 + (x_2-b)^2 + c$)  "
   ]
  },
  {
   "cell_type": "markdown",
   "metadata": {},
   "source": [
    "The decision boundary in this case is a circle. We may choose the radius and center of this circle by varying the parameters.\n",
    "\n",
    "Such a decision boundary can clearly shatter (a), (b), and (c). \n",
    "\n",
    "I claim that it cannot shatter (d). Let us say that our classifier classifies everything inside the circle as class 0, and everything outside as class 1. In the scenario where $\\{(2,2),(8,6)\\}$ belong to class 0 and $\\{(6,4), (4,8)\\}$ belong to class 1, no circle can be drawn such that the class 0 points are on the inside and the class 1 points are on the outside.\n",
    "\n",
    "Therefore, this classifier cannot shatter (d)\n"
   ]
  },
  {
   "cell_type": "markdown",
   "metadata": {},
   "source": [
    "# Problem #2: Decision Trees for Spam Classification"
   ]
  },
  {
   "cell_type": "markdown",
   "metadata": {},
   "source": [
    "## Part 1 Calculate the entropy H(y) of the binary class variable y."
   ]
  },
  {
   "cell_type": "code",
   "execution_count": null,
   "metadata": {
    "collapsed": true
   },
   "outputs": [],
   "source": []
  },
  {
   "cell_type": "code",
   "execution_count": 1,
   "metadata": {
    "collapsed": true
   },
   "outputs": [],
   "source": [
    "import numpy as np"
   ]
  },
  {
   "cell_type": "code",
   "execution_count": 16,
   "metadata": {},
   "outputs": [
    {
     "name": "stdout",
     "output_type": "stream",
     "text": [
      "0.9774178175281716\n"
     ]
    }
   ],
   "source": [
    "nRed = 7.\n",
    "nBlue = 10.\n",
    "N = nRed + nBlue\n",
    "ent = (nRed / N)*np.log2(1/(nRed/N)) + (nBlue / N)*np.log2(1/(nBlue/N))\n",
    "print(ent)"
   ]
  },
  {
   "cell_type": "code",
   "execution_count": 14,
   "metadata": {
    "collapsed": true
   },
   "outputs": [],
   "source": [
    "np.log?"
   ]
  },
  {
   "cell_type": "code",
   "execution_count": null,
   "metadata": {
    "collapsed": true
   },
   "outputs": [],
   "source": []
  },
  {
   "cell_type": "markdown",
   "metadata": {},
   "source": [
    "# Problem #3: Decision Trees on Kaggle"
   ]
  },
  {
   "cell_type": "markdown",
   "metadata": {},
   "source": [
    "### Part 1"
   ]
  },
  {
   "cell_type": "code",
   "execution_count": 42,
   "metadata": {
    "collapsed": true
   },
   "outputs": [],
   "source": [
    "import mltools as ml\n",
    "import numpy as np\n",
    "from matplotlib import pyplot as plt"
   ]
  },
  {
   "cell_type": "code",
   "execution_count": 22,
   "metadata": {},
   "outputs": [],
   "source": [
    "X = np.genfromtxt('data/X_train.txt', delimiter=None)\n",
    "Y = np.genfromtxt('data/Y_train.txt', delimiter=None)\n",
    "X,Y = ml.shuffleData(X,Y)"
   ]
  },
  {
   "cell_type": "code",
   "execution_count": 23,
   "metadata": {},
   "outputs": [
    {
     "name": "stdout",
     "output_type": "stream",
     "text": [
      "(200000, 14)\n",
      "(200000,)\n"
     ]
    }
   ],
   "source": [
    "print(X.shape)\n",
    "print(Y.shape)"
   ]
  },
  {
   "cell_type": "code",
   "execution_count": 26,
   "metadata": {},
   "outputs": [
    {
     "name": "stdout",
     "output_type": "stream",
     "text": [
      "Mins: [ 1.9350e+02  1.5250e+02  2.1425e+02  1.5250e+02  1.0000e+01  0.0000e+00\n",
      "  0.0000e+00  0.0000e+00  8.7589e-01  0.0000e+00  0.0000e+00  0.0000e+00\n",
      "  9.9049e-01 -9.9990e+02]\n",
      "Maxs: [2.5300e+02 2.4900e+02 2.5250e+02 2.5250e+02 3.1048e+04 1.3630e+04\n",
      " 9.2380e+03 1.2517e+02 1.9167e+01 1.3230e+01 6.6761e+01 7.3902e+01\n",
      " 9.7504e+02 7.9720e+02]\n",
      "Vars: [8.34991711e+01 9.26255931e+01 3.52863398e+01 9.76257317e+01\n",
      " 1.56515138e+07 3.08176182e+06 4.43951746e+05 8.21948502e+00\n",
      " 6.40504819e+00 4.36344047e+00 4.08637188e+00 2.19877847e+00\n",
      " 4.04646245e+02 3.40652055e+03]\n"
     ]
    }
   ],
   "source": [
    "print('Mins: ' + str(X.min(axis=0)))\n",
    "print('Maxs: ' + str(X.max(axis=0)))\n",
    "print('Vars: ' + str(X.var(axis=0)))"
   ]
  },
  {
   "cell_type": "markdown",
   "metadata": {},
   "source": [
    "### Part 2"
   ]
  },
  {
   "cell_type": "code",
   "execution_count": 30,
   "metadata": {},
   "outputs": [],
   "source": [
    "Xtr, Ytr = X[:10000,:], Y[:10000]\n",
    "Xva, Yva = X[10000:20000,:], Y[10000:20000]"
   ]
  },
  {
   "cell_type": "code",
   "execution_count": 31,
   "metadata": {},
   "outputs": [
    {
     "name": "stdout",
     "output_type": "stream",
     "text": [
      "(10000, 14)\n",
      "(10000,)\n",
      "(10000, 14)\n",
      "(10000,)\n"
     ]
    }
   ],
   "source": [
    "print(Xtr.shape)\n",
    "print(Ytr.shape)\n",
    "print(Xva.shape)\n",
    "print(Yva.shape)"
   ]
  },
  {
   "cell_type": "code",
   "execution_count": 32,
   "metadata": {
    "collapsed": true
   },
   "outputs": [],
   "source": [
    "learner = ml.dtree.treeClassify(Xtr, Ytr, maxDepth=50)"
   ]
  },
  {
   "cell_type": "code",
   "execution_count": 35,
   "metadata": {},
   "outputs": [
    {
     "name": "stdout",
     "output_type": "stream",
     "text": [
      "training error: 0.007400\n"
     ]
    }
   ],
   "source": [
    "train_error = learner.err(Xtr,Ytr)\n",
    "print('training error: %f' % train_error)"
   ]
  },
  {
   "cell_type": "code",
   "execution_count": 36,
   "metadata": {},
   "outputs": [
    {
     "name": "stdout",
     "output_type": "stream",
     "text": [
      "validation error: 0.383000\n"
     ]
    }
   ],
   "source": [
    "val_error = learner.err(Xva, Yva)\n",
    "print('validation error: %f' % val_error)"
   ]
  },
  {
   "cell_type": "markdown",
   "metadata": {},
   "source": [
    "### Part 3"
   ]
  },
  {
   "cell_type": "code",
   "execution_count": 47,
   "metadata": {},
   "outputs": [],
   "source": [
    "train_errors = []\n",
    "val_errors = []\n",
    "for k in range(16):\n",
    "    learner_k = ml.dtree.treeClassify(Xtr, Ytr, maxDepth=k)\n",
    "    train_errors.append(learner_k.err(Xtr, Ytr))\n",
    "    val_errors.append(learner_k.err(Xva, Yva))"
   ]
  },
  {
   "cell_type": "code",
   "execution_count": 48,
   "metadata": {},
   "outputs": [
    {
     "data": {
      "text/plain": [
       "<matplotlib.legend.Legend at 0x11c9d1f50>"
      ]
     },
     "execution_count": 48,
     "metadata": {},
     "output_type": "execute_result"
    },
    {
     "data": {
      "image/png": "[encoded data removed]",
      "text/plain": [
       "<matplotlib.figure.Figure at 0x11c94ebd0>"
      ]
     },
     "metadata": {},
     "output_type": "display_data"
    }
   ],
   "source": [
    "plt.figure(figsize=(12,12))\n",
    "plt.plot(train_errors, '--', label=\"Training Error\")\n",
    "plt.plot(val_errors, '-', label=\"Validation Error\" )\n",
    "plt.legend()"
   ]
  },
  {
   "cell_type": "markdown",
   "metadata": {},
   "source": [
    "Comments:\n",
    "\n",
    "Higher maxDepth corresponds to higher model complexity. Based on the graph above, the best model is as a maxDepth of roughly 6"
   ]
  },
  {
   "cell_type": "markdown",
   "metadata": {},
   "source": [
    "### Part 4"
   ]
  },
  {
   "cell_type": "code",
   "execution_count": 49,
   "metadata": {
    "collapsed": true
   },
   "outputs": [],
   "source": [
    "maxDepth = 50\n",
    "minParents = [2**k for k in range(2, 13)]\n",
    "train_errors_minParents = []\n",
    "val_errors_minParents = []\n",
    "for m in minParents:\n",
    "    learner = ml.dtree.treeClassify(Xtr, Ytr, minParent=m ,maxDepth=maxDepth)\n",
    "    train_errors_minParents.append(learner.err(Xtr, Ytr))\n",
    "    val_errors_minParents.append(learner.err(Xva, Yva))    "
   ]
  },
  {
   "cell_type": "code",
   "execution_count": 50,
   "metadata": {},
   "outputs": [
    {
     "data": {
      "text/plain": [
       "<matplotlib.legend.Legend at 0x1056accd0>"
      ]
     },
     "execution_count": 50,
     "metadata": {},
     "output_type": "execute_result"
    },
    {
     "data": {
      "image/png": "[encoded data removed]",
      "text/plain": [
       "<matplotlib.figure.Figure at 0x11c96ad90>"
      ]
     },
     "metadata": {},
     "output_type": "display_data"
    }
   ],
   "source": [
    "plt.figure(figsize=(12,12))\n",
    "plt.plot(minParents, train_errors_minParents, '--', label=\"Training Error\")\n",
    "plt.plot(minParents, val_errors_minParents, '-', label=\"Validation Error\" )\n",
    "plt.legend()"
   ]
  },
  {
   "cell_type": "markdown",
   "metadata": {},
   "source": [
    "Comments:\n",
    "\n",
    "Models with higher minParent have lower complexity (which makes sense because higher minParent requires more data to split the tree). \n",
    "\n",
    "Based on the above plot, minParent = 1024 provides the best decision tree model."
   ]
  },
  {
   "cell_type": "markdown",
   "metadata": {},
   "source": [
    "### Part 5"
   ]
  },
  {
   "cell_type": "code",
   "execution_count": 68,
   "metadata": {},
   "outputs": [],
   "source": [
    "maxDepth = 6  # best maxDepth from earlier\n",
    "minParent = 1024  # best maxParent from earlier\n",
    "\n",
    "learner = ml.dtree.treeClassify(Xtr, Ytr, minParent=minParent, maxDepth=maxDepth)"
   ]
  },
  {
   "cell_type": "markdown",
   "metadata": {},
   "source": [
    "#### ROC"
   ]
  },
  {
   "cell_type": "code",
   "execution_count": 70,
   "metadata": {},
   "outputs": [
    {
     "name": "stdout",
     "output_type": "stream",
     "text": [
      "Training ROC: (array([0.        , 0.00183936, 0.01824034, 0.03004292, 0.13044145,\n",
      "       0.14301042, 0.17581239, 0.24110975, 0.41063765, 0.42979767,\n",
      "       0.51302882, 0.62093807, 0.69911097, 0.73191294, 0.75613121,\n",
      "       0.86879215, 0.99233599, 0.9992336 , 1.        ]), array([0.        , 0.0132336 , 0.06990794, 0.10730725, 0.33371692,\n",
      "       0.35989643, 0.40880322, 0.49252014, 0.65391254, 0.67088608,\n",
      "       0.73130035, 0.81530495, 0.86708861, 0.88406214, 0.89873418,\n",
      "       0.95454545, 0.99856157, 1.        , 1.        ]), array([1.00000000e+00, 9.98313918e-01, 9.81912937e-01, 9.70110362e-01,\n",
      "       8.69711833e-01, 8.57142857e-01, 8.24187615e-01, 7.59043532e-01,\n",
      "       5.89515635e-01, 5.70202330e-01, 4.86971183e-01, 3.79215205e-01,\n",
      "       3.01042305e-01, 2.68240343e-01, 2.44022072e-01, 1.31207848e-01,\n",
      "       7.81729001e-03, 9.19681177e-04, 1.53280196e-04]))\n",
      "\n",
      "\n",
      "Validation ROC: (array([0.        , 0.00278508, 0.02073341, 0.03481355, 0.12888751,\n",
      "       0.14219403, 0.17143741, 0.23301872, 0.40693177, 0.4301408 ,\n",
      "       0.51152715, 0.62602507, 0.7101965 , 0.74176079, 0.76419619,\n",
      "       0.87544484, 0.99164475, 1.        , 1.        ]), array([0.        , 0.00961267, 0.05739327, 0.10036754, 0.31552163,\n",
      "       0.33700876, 0.37856941, 0.47695787, 0.61775516, 0.63528414,\n",
      "       0.700311  , 0.79219678, 0.84676279, 0.86542267, 0.88210348,\n",
      "       0.94175855, 0.99802092, 0.99971727, 1.        ]), array([1.00000000e+00, 9.97369643e-01, 9.79266594e-01, 9.65186446e-01,\n",
      "       8.71267213e-01, 8.57960699e-01, 8.28562587e-01, 7.67136005e-01,\n",
      "       5.93222961e-01, 5.70013925e-01, 4.88627572e-01, 3.74129661e-01,\n",
      "       2.89803497e-01, 2.58393935e-01, 2.35958533e-01, 1.24555160e-01,\n",
      "       8.50997989e-03, 1.54726907e-04, 0.00000000e+00]))\n"
     ]
    }
   ],
   "source": [
    "roc_tr = learner.roc(Xtr, Ytr)\n",
    "roc_val = learner.roc(Xva, Yva)\n",
    "print(\"Training ROC: \" + str(roc_tr))\n",
    "print('\\n')\n",
    "print(\"Validation ROC: \" + str(roc_val))"
   ]
  },
  {
   "cell_type": "markdown",
   "metadata": {},
   "source": [
    "#### AUC"
   ]
  },
  {
   "cell_type": "code",
   "execution_count": 71,
   "metadata": {},
   "outputs": [
    {
     "name": "stdout",
     "output_type": "stream",
     "text": [
      "Training AUC: 0.672665\n",
      "Validation AUC: 0.650589\n"
     ]
    }
   ],
   "source": [
    "print(\"Training AUC: %f\" % learner.auc(Xtr, Ytr))\n",
    "print(\"Validation AUC: %f\" % learner.auc(Xva, Yva))"
   ]
  },
  {
   "cell_type": "markdown",
   "metadata": {},
   "source": [
    "### Part 6"
   ]
  },
  {
   "cell_type": "markdown",
   "metadata": {},
   "source": [
    "We now train the decision tree model from part 5 on all training data"
   ]
  },
  {
   "cell_type": "code",
   "execution_count": 74,
   "metadata": {
    "collapsed": true
   },
   "outputs": [],
   "source": [
    "learner = ml.dtree.treeClassify(X, Y, minParent=minParent, maxDepth=maxDepth)"
   ]
  },
  {
   "cell_type": "code",
   "execution_count": 75,
   "metadata": {},
   "outputs": [
    {
     "data": {
      "text/plain": [
       "0.305515"
      ]
     },
     "execution_count": 75,
     "metadata": {},
     "output_type": "execute_result"
    }
   ],
   "source": [
    "learner.err(X,Y)"
   ]
  },
  {
   "cell_type": "markdown",
   "metadata": {},
   "source": [
    "Now make predictions on the test data"
   ]
  },
  {
   "cell_type": "code",
   "execution_count": 77,
   "metadata": {},
   "outputs": [],
   "source": [
    "Xte = np.genfromtxt('data/X_test.txt', delimiter=None)\n",
    "Yte = np.vstack((np.arange(Xte.shape[0]), learner.predictSoft(Xte)[:,1])).T\n",
    "np.savetxt('Y _ submit.txt',Yte,'%d, %.2f',header='ID,Prob1',comments='',delimiter=',')"
   ]
  }
 ],
 "metadata": {
  "kernelspec": {
   "display_name": "Python (py2)",
   "language": "python",
   "name": "py2"
  },
  "language_info": {
   "codemirror_mode": {
    "name": "ipython",
    "version": 2
   },
   "file_extension": ".py",
   "mimetype": "text/x-python",
   "name": "python",
   "nbconvert_exporter": "python",
   "pygments_lexer": "ipython2",
   "version": "2.7.14"
  }
 },
 "nbformat": 4,
 "nbformat_minor": 2
}
