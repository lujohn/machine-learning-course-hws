{
 "cells": [
  {
   "cell_type": "code",
   "execution_count": 179,
   "metadata": {},
   "outputs": [],
   "source": [
    "import numpy as np\n",
    "import matplotlib.pyplot as plt\n",
    "import mltools as ml\n",
    "import seaborn as sns\n",
    "import pandas as pd\n",
    "from keras.models import Sequential\n",
    "from keras.layers import Dense, BatchNormalization, Dropout, ZeroPadding1D, Conv1D, MaxPooling1D, Flatten\n",
    "from keras.optimizers import SGD, Adam, RMSprop\n",
    "\n",
    "\n",
    "from sklearn.preprocessing import StandardScaler\n",
    "from sklearn.feature_selection import SelectKBest\n",
    "from sklearn.feature_selection import f_classif\n",
    "from sklearn.feature_selection import VarianceThreshold\n",
    "%matplotlib inline"
   ]
  },
  {
   "cell_type": "markdown",
   "metadata": {},
   "source": [
    "## Data Import"
   ]
  },
  {
   "cell_type": "code",
   "execution_count": 183,
   "metadata": {
    "collapsed": true
   },
   "outputs": [],
   "source": [
    "X = np.genfromtxt('data/X_train.txt', delimiter=None)\n",
    "Y = np.genfromtxt('data/Y_train.txt', delimiter=None)\n",
    "X,Y = ml.shuffleData(X,Y)\n",
    "\n",
    "Xdf = pd.DataFrame(X)\n",
    "Ydf = pd.DataFrame(Y)"
   ]
  },
  {
   "cell_type": "code",
   "execution_count": 184,
   "metadata": {},
   "outputs": [
    {
     "data": {
      "text/html": [
       "<div>\n",
       "<style scoped>\n",
       "    .dataframe tbody tr th:only-of-type {\n",
       "        vertical-align: middle;\n",
       "    }\n",
       "\n",
       "    .dataframe tbody tr th {\n",
       "        vertical-align: top;\n",
       "    }\n",
       "\n",
       "    .dataframe thead th {\n",
       "        text-align: right;\n",
       "    }\n",
       "</style>\n",
       "<table border=\"1\" class=\"dataframe\">\n",
       "  <thead>\n",
       "    <tr style=\"text-align: right;\">\n",
       "      <th></th>\n",
       "      <th>0</th>\n",
       "      <th>1</th>\n",
       "      <th>2</th>\n",
       "      <th>3</th>\n",
       "      <th>4</th>\n",
       "      <th>5</th>\n",
       "      <th>6</th>\n",
       "      <th>7</th>\n",
       "      <th>8</th>\n",
       "      <th>9</th>\n",
       "      <th>10</th>\n",
       "      <th>11</th>\n",
       "      <th>12</th>\n",
       "      <th>13</th>\n",
       "    </tr>\n",
       "  </thead>\n",
       "  <tbody>\n",
       "    <tr>\n",
       "      <th>0</th>\n",
       "      <td>230.0</td>\n",
       "      <td>226.0</td>\n",
       "      <td>241.12</td>\n",
       "      <td>232.53</td>\n",
       "      <td>3536.0</td>\n",
       "      <td>895.0</td>\n",
       "      <td>0.0</td>\n",
       "      <td>1.8040</td>\n",
       "      <td>6.8566</td>\n",
       "      <td>2.0479</td>\n",
       "      <td>3.2205</td>\n",
       "      <td>1.9657</td>\n",
       "      <td>2.3371</td>\n",
       "      <td>28.8</td>\n",
       "    </tr>\n",
       "    <tr>\n",
       "      <th>1</th>\n",
       "      <td>252.0</td>\n",
       "      <td>227.0</td>\n",
       "      <td>237.44</td>\n",
       "      <td>231.62</td>\n",
       "      <td>1908.0</td>\n",
       "      <td>937.0</td>\n",
       "      <td>0.0</td>\n",
       "      <td>1.2040</td>\n",
       "      <td>7.0240</td>\n",
       "      <td>2.0210</td>\n",
       "      <td>6.4398</td>\n",
       "      <td>6.1343</td>\n",
       "      <td>2.4893</td>\n",
       "      <td>0.0</td>\n",
       "    </tr>\n",
       "    <tr>\n",
       "      <th>2</th>\n",
       "      <td>238.5</td>\n",
       "      <td>226.0</td>\n",
       "      <td>241.12</td>\n",
       "      <td>232.53</td>\n",
       "      <td>8632.0</td>\n",
       "      <td>2227.0</td>\n",
       "      <td>0.0</td>\n",
       "      <td>2.1958</td>\n",
       "      <td>6.8124</td>\n",
       "      <td>2.0108</td>\n",
       "      <td>2.9833</td>\n",
       "      <td>2.1844</td>\n",
       "      <td>2.7493</td>\n",
       "      <td>0.0</td>\n",
       "    </tr>\n",
       "    <tr>\n",
       "      <th>3</th>\n",
       "      <td>238.0</td>\n",
       "      <td>234.5</td>\n",
       "      <td>244.43</td>\n",
       "      <td>234.85</td>\n",
       "      <td>450.0</td>\n",
       "      <td>5.0</td>\n",
       "      <td>0.0</td>\n",
       "      <td>6.1049</td>\n",
       "      <td>5.2759</td>\n",
       "      <td>0.2000</td>\n",
       "      <td>5.2600</td>\n",
       "      <td>2.8574</td>\n",
       "      <td>20.0000</td>\n",
       "      <td>18.0</td>\n",
       "    </tr>\n",
       "    <tr>\n",
       "      <th>4</th>\n",
       "      <td>233.0</td>\n",
       "      <td>223.5</td>\n",
       "      <td>238.97</td>\n",
       "      <td>230.81</td>\n",
       "      <td>3614.0</td>\n",
       "      <td>1334.0</td>\n",
       "      <td>0.0</td>\n",
       "      <td>0.8704</td>\n",
       "      <td>7.5201</td>\n",
       "      <td>2.8912</td>\n",
       "      <td>2.8271</td>\n",
       "      <td>2.0687</td>\n",
       "      <td>1.7119</td>\n",
       "      <td>1.6</td>\n",
       "    </tr>\n",
       "  </tbody>\n",
       "</table>\n",
       "</div>"
      ],
      "text/plain": [
       "      0      1       2       3       4       5    6       7       8       9   \\\n",
       "0  230.0  226.0  241.12  232.53  3536.0   895.0  0.0  1.8040  6.8566  2.0479   \n",
       "1  252.0  227.0  237.44  231.62  1908.0   937.0  0.0  1.2040  7.0240  2.0210   \n",
       "2  238.5  226.0  241.12  232.53  8632.0  2227.0  0.0  2.1958  6.8124  2.0108   \n",
       "3  238.0  234.5  244.43  234.85   450.0     5.0  0.0  6.1049  5.2759  0.2000   \n",
       "4  233.0  223.5  238.97  230.81  3614.0  1334.0  0.0  0.8704  7.5201  2.8912   \n",
       "\n",
       "       10      11       12    13  \n",
       "0  3.2205  1.9657   2.3371  28.8  \n",
       "1  6.4398  6.1343   2.4893   0.0  \n",
       "2  2.9833  2.1844   2.7493   0.0  \n",
       "3  5.2600  2.8574  20.0000  18.0  \n",
       "4  2.8271  2.0687   1.7119   1.6  "
      ]
     },
     "execution_count": 184,
     "metadata": {},
     "output_type": "execute_result"
    }
   ],
   "source": [
    "Xdf.head()"
   ]
  },
  {
   "cell_type": "code",
   "execution_count": 185,
   "metadata": {},
   "outputs": [],
   "source": [
    "X_kBest = SelectKBest(f_classif, k=10).fit_transform(X,Y)"
   ]
  },
  {
   "cell_type": "code",
   "execution_count": 187,
   "metadata": {},
   "outputs": [
    {
     "data": {
      "text/html": [
       "<div>\n",
       "<style scoped>\n",
       "    .dataframe tbody tr th:only-of-type {\n",
       "        vertical-align: middle;\n",
       "    }\n",
       "\n",
       "    .dataframe tbody tr th {\n",
       "        vertical-align: top;\n",
       "    }\n",
       "\n",
       "    .dataframe thead th {\n",
       "        text-align: right;\n",
       "    }\n",
       "</style>\n",
       "<table border=\"1\" class=\"dataframe\">\n",
       "  <thead>\n",
       "    <tr style=\"text-align: right;\">\n",
       "      <th></th>\n",
       "      <th>0</th>\n",
       "      <th>1</th>\n",
       "      <th>2</th>\n",
       "      <th>3</th>\n",
       "      <th>4</th>\n",
       "      <th>5</th>\n",
       "      <th>6</th>\n",
       "      <th>7</th>\n",
       "      <th>8</th>\n",
       "      <th>9</th>\n",
       "    </tr>\n",
       "  </thead>\n",
       "  <tbody>\n",
       "    <tr>\n",
       "      <th>0</th>\n",
       "      <td>230.0</td>\n",
       "      <td>226.0</td>\n",
       "      <td>241.12</td>\n",
       "      <td>232.53</td>\n",
       "      <td>895.0</td>\n",
       "      <td>6.8566</td>\n",
       "      <td>2.0479</td>\n",
       "      <td>1.9657</td>\n",
       "      <td>2.3371</td>\n",
       "      <td>28.8</td>\n",
       "    </tr>\n",
       "    <tr>\n",
       "      <th>1</th>\n",
       "      <td>252.0</td>\n",
       "      <td>227.0</td>\n",
       "      <td>237.44</td>\n",
       "      <td>231.62</td>\n",
       "      <td>937.0</td>\n",
       "      <td>7.0240</td>\n",
       "      <td>2.0210</td>\n",
       "      <td>6.1343</td>\n",
       "      <td>2.4893</td>\n",
       "      <td>0.0</td>\n",
       "    </tr>\n",
       "    <tr>\n",
       "      <th>2</th>\n",
       "      <td>238.5</td>\n",
       "      <td>226.0</td>\n",
       "      <td>241.12</td>\n",
       "      <td>232.53</td>\n",
       "      <td>2227.0</td>\n",
       "      <td>6.8124</td>\n",
       "      <td>2.0108</td>\n",
       "      <td>2.1844</td>\n",
       "      <td>2.7493</td>\n",
       "      <td>0.0</td>\n",
       "    </tr>\n",
       "    <tr>\n",
       "      <th>3</th>\n",
       "      <td>238.0</td>\n",
       "      <td>234.5</td>\n",
       "      <td>244.43</td>\n",
       "      <td>234.85</td>\n",
       "      <td>5.0</td>\n",
       "      <td>5.2759</td>\n",
       "      <td>0.2000</td>\n",
       "      <td>2.8574</td>\n",
       "      <td>20.0000</td>\n",
       "      <td>18.0</td>\n",
       "    </tr>\n",
       "    <tr>\n",
       "      <th>4</th>\n",
       "      <td>233.0</td>\n",
       "      <td>223.5</td>\n",
       "      <td>238.97</td>\n",
       "      <td>230.81</td>\n",
       "      <td>1334.0</td>\n",
       "      <td>7.5201</td>\n",
       "      <td>2.8912</td>\n",
       "      <td>2.0687</td>\n",
       "      <td>1.7119</td>\n",
       "      <td>1.6</td>\n",
       "    </tr>\n",
       "  </tbody>\n",
       "</table>\n",
       "</div>"
      ],
      "text/plain": [
       "       0      1       2       3       4       5       6       7        8     9\n",
       "0  230.0  226.0  241.12  232.53   895.0  6.8566  2.0479  1.9657   2.3371  28.8\n",
       "1  252.0  227.0  237.44  231.62   937.0  7.0240  2.0210  6.1343   2.4893   0.0\n",
       "2  238.5  226.0  241.12  232.53  2227.0  6.8124  2.0108  2.1844   2.7493   0.0\n",
       "3  238.0  234.5  244.43  234.85     5.0  5.2759  0.2000  2.8574  20.0000  18.0\n",
       "4  233.0  223.5  238.97  230.81  1334.0  7.5201  2.8912  2.0687   1.7119   1.6"
      ]
     },
     "execution_count": 187,
     "metadata": {},
     "output_type": "execute_result"
    }
   ],
   "source": [
    "X_kBestdf = pd.DataFrame(X_kBest)\n",
    "X_kBestdf.head()"
   ]
  },
  {
   "cell_type": "code",
   "execution_count": 150,
   "metadata": {
    "scrolled": true
   },
   "outputs": [
    {
     "name": "stdout",
     "output_type": "stream",
     "text": [
      "(30000, 14)\n",
      "(30000,)\n"
     ]
    }
   ],
   "source": [
    "X_train, X_val = X[:30000,:], X[180000:,:]\n",
    "Y_train, Y_val = Y[:30000], Y[180000:]\n",
    "print(X_train.shape)\n",
    "print(Y_train.shape)"
   ]
  },
  {
   "cell_type": "markdown",
   "metadata": {},
   "source": [
    "## Keras - Neural Network"
   ]
  },
  {
   "cell_type": "code",
   "execution_count": 196,
   "metadata": {},
   "outputs": [],
   "source": [
    "nnModel = Sequential()\n",
    "nnModel.add(BatchNormalization(input_shape=(14,)))\n",
    "nnModel.add(Dense(100, activation=\"sigmoid\"))\n",
    "nnModel.add(Dense(200, activation=\"sigmoid\"))\n",
    "nnModel.add(Dense(300, activation=\"sigmoid\"))\n",
    "nnModel.add(Dense(200, activation=\"relu\"))\n",
    "nnModel.add(Dense(100, activation=\"relu\"))\n",
    "nnModel.add(Dense(1, activation='sigmoid'))\n",
    "adam = RMSprop(lr=1)\n",
    "nnModel.compile(loss=\"binary_crossentropy\", optimizer=adam, metrics=[\"accuracy\"])"
   ]
  },
  {
   "cell_type": "code",
   "execution_count": null,
   "metadata": {
    "scrolled": true
   },
   "outputs": [
    {
     "name": "stdout",
     "output_type": "stream",
     "text": [
      "Epoch 1/5\n",
      "30000/30000 [==============================] - 11s 354us/step - loss: 5.4814 - acc: 0.6597\n",
      "Epoch 2/5\n",
      "30000/30000 [==============================] - 9s 290us/step - loss: 5.4855 - acc: 0.6597\n",
      "Epoch 3/5\n",
      "30000/30000 [==============================] - 9s 300us/step - loss: 5.4855 - acc: 0.6597\n",
      "Epoch 4/5\n",
      " 3808/30000 [==>...........................] - ETA: 7s - loss: 5.5364 - acc: 0.6565"
     ]
    }
   ],
   "source": [
    "nnModel.optimizer.lr = 0.01\n",
    "nnModel.fit(X_train, Y_train, epochs=5, batch_size=32)"
   ]
  },
  {
   "cell_type": "code",
   "execution_count": 27,
   "metadata": {},
   "outputs": [],
   "source": [
    "model = Sequential()\n",
    "model.add(Conv1D(128, 3, padding=\"same\", activation='relu', input_shape=(14,1)))\n",
    "model.add(BatchNormalization())\n",
    "model.add(Conv1D(128, 3, padding=\"same\", activation='relu'))\n",
    "model.add(BatchNormalization())\n",
    "model.add(MaxPooling1D(2, padding=\"same\", strides=2))\n",
    "\n",
    "model.add(Conv1D(256, 3, padding=\"same\", activation='relu'))\n",
    "model.add(BatchNormalization())\n",
    "model.add(Conv1D(256, 3, padding=\"same\", activation='relu'))\n",
    "model.add(BatchNormalization())\n",
    "model.add(MaxPooling1D(2, padding=\"same\", strides=2))\n",
    "\n",
    "model.add(Conv1D(256, 3, padding=\"same\", activation='relu'))\n",
    "model.add(BatchNormalization())\n",
    "model.add(Conv1D(256, 3, padding=\"same\", activation='relu'))\n",
    "model.add(BatchNormalization())\n",
    "model.add(MaxPooling1D(2, strides=2))\n",
    "\n",
    "model.add(Conv1D(128, 3, padding=\"same\", activation='relu'))\n",
    "model.add(BatchNormalization())\n",
    "model.add(Conv1D(128, 3, padding=\"same\", activation='relu'))\n",
    "model.add(BatchNormalization())\n",
    "model.add(MaxPooling1D(2, padding=\"same\", strides=2))\n",
    "\n",
    "model.add(Flatten())\n",
    "model.add(Dense(516, activation='relu'))\n",
    "model.add(Dense(516, activation='relu'))\n",
    "model.add(Dense(1, activation='sigmoid'))"
   ]
  },
  {
   "cell_type": "code",
   "execution_count": 36,
   "metadata": {},
   "outputs": [],
   "source": [
    "X_train_expanded = np.expand_dims(X_train, axis=2)\n",
    "X_val_expanded = np.expand_dims(X_val, axis=2)"
   ]
  },
  {
   "cell_type": "code",
   "execution_count": 18,
   "metadata": {
    "collapsed": true
   },
   "outputs": [],
   "source": [
    "model.fit(X_train_expanded, Y_train, epochs=1, batch_size=64)"
   ]
  },
  {
   "cell_type": "code",
   "execution_count": 28,
   "metadata": {},
   "outputs": [
    {
     "name": "stdout",
     "output_type": "stream",
     "text": [
      "Epoch 1/1\n",
      "20000/20000 [==============================] - 180s 9ms/step - loss: 0.6604 - acc: 0.6595\n"
     ]
    },
    {
     "data": {
      "text/plain": [
       "<keras.callbacks.History at 0x1a223f5b50>"
      ]
     },
     "execution_count": 28,
     "metadata": {},
     "output_type": "execute_result"
    }
   ],
   "source": [
    "adam = Adam(lr=0.01)\n",
    "model.compile(loss=\"binary_crossentropy\", optimizer=adam, metrics=[\"accuracy\"])\n",
    "model.fit(X_train_expanded, Y_train, epochs=1, batch_size=32)"
   ]
  },
  {
   "cell_type": "code",
   "execution_count": 38,
   "metadata": {},
   "outputs": [
    {
     "name": "stdout",
     "output_type": "stream",
     "text": [
      "Train on 10000 samples, validate on 20000 samples\n",
      "Epoch 1/1\n",
      "10000/10000 [==============================] - 60s 6ms/step - loss: 0.6422 - acc: 0.6589 - val_loss: 0.6466 - val_acc: 0.6513\n"
     ]
    },
    {
     "data": {
      "text/plain": [
       "<keras.callbacks.History at 0x1a23448890>"
      ]
     },
     "execution_count": 38,
     "metadata": {},
     "output_type": "execute_result"
    }
   ],
   "source": [
    "model.optimizer.lr = 0.001\n",
    "model.fit(X_train_expanded, Y_train, epochs=1, validation_data=(X_val_expanded, Y_val), batch_size=16)"
   ]
  },
  {
   "cell_type": "markdown",
   "metadata": {},
   "source": [
    "# Scikit-Learn Models"
   ]
  },
  {
   "cell_type": "code",
   "execution_count": 74,
   "metadata": {},
   "outputs": [],
   "source": [
    "from sklearn.preprocessing import StandardScaler\n",
    "\n",
    "from sklearn import tree\n",
    "from sklearn.ensemble import RandomForestClassifier\n",
    "from sklearn.ensemble import GradientBoostingClassifier\n",
    "from sklearn.ensemble import AdaBoostClassifier\n",
    "from sklearn.ensemble import ExtraTreesClassifier\n",
    "\n",
    "from sklearn.feature_selection import SelectFromModel\n",
    "from sklearn.svm import LinearSVC\n",
    "from sklearn.feature_selection import SelectKBest\n",
    "from sklearn.feature_selection import chi2\n",
    "\n",
    "from sklearn.metrics import accuracy_score\n",
    "\n",
    "from sklearn.pipeline import Pipeline\n",
    "from sklearn.model_selection import GridSearchCV\n",
    "from sklearn.model_selection import cross_val_score"
   ]
  },
  {
   "cell_type": "code",
   "execution_count": 272,
   "metadata": {},
   "outputs": [
    {
     "name": "stdout",
     "output_type": "stream",
     "text": [
      "(200000, 14)\n",
      "(200000, 13)\n"
     ]
    }
   ],
   "source": [
    "print(X.shape)\n",
    "lsvc = LinearSVC(C=0.5, penalty=\"l1\", dual=False).fit(X, Y)\n",
    "model = SelectFromModel(lsvc, prefit=True)\n",
    "X_new = model.transform(X)\n",
    "print(X_new.shape)"
   ]
  },
  {
   "cell_type": "markdown",
   "metadata": {},
   "source": [
    "## Decision Tree"
   ]
  },
  {
   "cell_type": "markdown",
   "metadata": {},
   "source": [
    "## Gradient Boosting"
   ]
  },
  {
   "cell_type": "code",
   "execution_count": 40,
   "metadata": {
    "collapsed": true
   },
   "outputs": [],
   "source": [
    "xBoostClf = Pipeline([('scaling', StandardScaler()),\n",
    "  ('classification', GradientBoostingClassifier())\n",
    "])\n"
   ]
  },
  {
   "cell_type": "code",
   "execution_count": 78,
   "metadata": {},
   "outputs": [],
   "source": [
    "param_grid = [\n",
    "  {'max_depth': [1, 5, 9, 13, 17, 21, 23], 'n_estimators': [3, 7, 11, 15, 19, 23]},\n",
    "]\n",
    "xBoostClf = GradientBoostingClassifier()\n",
    "grid = GridSearchCV(xBoostClf, param_grid)"
   ]
  },
  {
   "cell_type": "code",
   "execution_count": 79,
   "metadata": {},
   "outputs": [
    {
     "data": {
      "text/plain": [
       "GridSearchCV(cv=None, error_score='raise',\n",
       "       estimator=GradientBoostingClassifier(criterion='friedman_mse', init=None,\n",
       "              learning_rate=0.1, loss='deviance', max_depth=3,\n",
       "              max_features=None, max_leaf_nodes=None,\n",
       "              min_impurity_decrease=0.0, min_impurity_split=None,\n",
       "              min_samples_leaf=1, min_samples_split=2,\n",
       "              min_weight_fraction_leaf=0.0, n_estimators=100,\n",
       "              presort='auto', random_state=None, subsample=1.0, verbose=0,\n",
       "              warm_start=False),\n",
       "       fit_params=None, iid=True, n_jobs=1,\n",
       "       param_grid=[{'n_estimators': [3, 7, 11, 15, 19, 23], 'max_depth': [1, 5, 9, 13, 17, 21, 23]}],\n",
       "       pre_dispatch='2*n_jobs', refit=True, return_train_score='warn',\n",
       "       scoring=None, verbose=0)"
      ]
     },
     "execution_count": 79,
     "metadata": {},
     "output_type": "execute_result"
    }
   ],
   "source": [
    "grid.fit(X_train, Y_train)"
   ]
  },
  {
   "cell_type": "code",
   "execution_count": 82,
   "metadata": {},
   "outputs": [],
   "source": [
    "xBoostCLF = grid.best_estimator_"
   ]
  },
  {
   "cell_type": "code",
   "execution_count": 83,
   "metadata": {},
   "outputs": [
    {
     "data": {
      "text/plain": [
       "0.69084999999999996"
      ]
     },
     "execution_count": 83,
     "metadata": {},
     "output_type": "execute_result"
    }
   ],
   "source": [
    "xBoostCLF.score(X_val, Y_val)"
   ]
  },
  {
   "cell_type": "markdown",
   "metadata": {},
   "source": [
    "## Random Forest"
   ]
  },
  {
   "cell_type": "code",
   "execution_count": 84,
   "metadata": {
    "collapsed": true
   },
   "outputs": [],
   "source": [
    "param_grid = [\n",
    "  {'max_depth': [1, 5, 9, 13, 17, 21, 23], 'n_estimators': [3, 7, 11, 15, 19, 23]},\n",
    "]\n",
    "randomForestClf = GradientBoostingClassifier()\n",
    "grid = GridSearchCV(randomForestClf, param_grid)"
   ]
  },
  {
   "cell_type": "code",
   "execution_count": 85,
   "metadata": {},
   "outputs": [
    {
     "data": {
      "text/plain": [
       "GridSearchCV(cv=None, error_score='raise',\n",
       "       estimator=GradientBoostingClassifier(criterion='friedman_mse', init=None,\n",
       "              learning_rate=0.1, loss='deviance', max_depth=3,\n",
       "              max_features=None, max_leaf_nodes=None,\n",
       "              min_impurity_decrease=0.0, min_impurity_split=None,\n",
       "              min_samples_leaf=1, min_samples_split=2,\n",
       "              min_weight_fraction_leaf=0.0, n_estimators=100,\n",
       "              presort='auto', random_state=None, subsample=1.0, verbose=0,\n",
       "              warm_start=False),\n",
       "       fit_params=None, iid=True, n_jobs=1,\n",
       "       param_grid=[{'n_estimators': [3, 7, 11, 15, 19, 23], 'max_depth': [1, 5, 9, 13, 17, 21, 23]}],\n",
       "       pre_dispatch='2*n_jobs', refit=True, return_train_score='warn',\n",
       "       scoring=None, verbose=0)"
      ]
     },
     "execution_count": 85,
     "metadata": {},
     "output_type": "execute_result"
    }
   ],
   "source": [
    "grid.fit(X_train, Y_train)"
   ]
  },
  {
   "cell_type": "code",
   "execution_count": 86,
   "metadata": {},
   "outputs": [
    {
     "data": {
      "text/plain": [
       "GradientBoostingClassifier(criterion='friedman_mse', init=None,\n",
       "              learning_rate=0.1, loss='deviance', max_depth=5,\n",
       "              max_features=None, max_leaf_nodes=None,\n",
       "              min_impurity_decrease=0.0, min_impurity_split=None,\n",
       "              min_samples_leaf=1, min_samples_split=2,\n",
       "              min_weight_fraction_leaf=0.0, n_estimators=19,\n",
       "              presort='auto', random_state=None, subsample=1.0, verbose=0,\n",
       "              warm_start=False)"
      ]
     },
     "execution_count": 86,
     "metadata": {},
     "output_type": "execute_result"
    }
   ],
   "source": [
    "grid.best_estimator_"
   ]
  },
  {
   "cell_type": "code",
   "execution_count": null,
   "metadata": {
    "collapsed": true
   },
   "outputs": [],
   "source": []
  },
  {
   "cell_type": "code",
   "execution_count": 277,
   "metadata": {
    "collapsed": true
   },
   "outputs": [],
   "source": [
    "depths = [1, 5, 9, 13, 17, 21, 23]\n",
    "scores = []\n",
    "for depth in depths:\n",
    "    rfClf = RandomForestClassifier(n_estimators=10, max_depth=depth)\n",
    "    xValScores = cross_val_score(rfClf, X_new, Y)\n",
    "    scores.append(xValScores.mean())"
   ]
  },
  {
   "cell_type": "code",
   "execution_count": 278,
   "metadata": {},
   "outputs": [
    {
     "name": "stdout",
     "output_type": "stream",
     "text": [
      "[0.6571050000328554, 0.6904250109595761, 0.7052950045602876, 0.7182350000859121, 0.7242300058112406, 0.7234000077112085]\n",
      "best depth: 17\n"
     ]
    }
   ],
   "source": [
    "print(scores)\n",
    "print(\"best depth: %d\" % depths[np.argmax(scores)])\n",
    "best_depth = depths[np.argmax(scores)]"
   ]
  },
  {
   "cell_type": "code",
   "execution_count": 279,
   "metadata": {
    "collapsed": true
   },
   "outputs": [],
   "source": [
    "nEstimators = [3, 7, 11, 15, 19, 23]\n",
    "n_est_scores = []\n",
    "for n in nEstimators:\n",
    "    rfClf = RandomForestClassifier(n_estimators=n, max_depth=best_depth)\n",
    "    xValScores = cross_val_score(rfClf, X_new, Y)\n",
    "    n_est_scores.append(xValScores.mean())"
   ]
  },
  {
   "cell_type": "code",
   "execution_count": 280,
   "metadata": {},
   "outputs": [
    {
     "name": "stdout",
     "output_type": "stream",
     "text": [
      "[0.6571050000328554, 0.6904250109595761, 0.7052950045602876, 0.7182350000859121, 0.7242300058112406, 0.7234000077112085]\n",
      "best n estimators: 19\n"
     ]
    }
   ],
   "source": [
    "print(n_est_scores)\n",
    "print(\"best n estimators: %d\" % nEstimators[np.argmax(n_est_scores)])\n",
    "best_n_est = nEstimators[np.argmax(n_est_scores)]"
   ]
  },
  {
   "cell_type": "code",
   "execution_count": 281,
   "metadata": {
    "collapsed": true
   },
   "outputs": [],
   "source": [
    "rfClf = RandomForestClassifier(n_estimators=best_n_est, max_depth=best_depth)\n",
    "cross_val_score(rfClf, X_new, Y).mean()"
   ]
  },
  {
   "cell_type": "code",
   "execution_count": 285,
   "metadata": {
    "collapsed": true
   },
   "outputs": [],
   "source": [
    "min_samples_sp = [2, 7, 12, 17, 22, 27]\n",
    "min_samples_scores = []\n",
    "for m in min_samples_sp:\n",
    "    rfClf = RandomForestClassifier(n_estimators=n, max_depth=best_depth, min_samples_split=m)\n",
    "    xValScores = cross_val_score(rfClf, X_new, Y)\n",
    "    min_samples_scores.append(xValScores.mean())"
   ]
  },
  {
   "cell_type": "code",
   "execution_count": 287,
   "metadata": {},
   "outputs": [
    {
     "name": "stdout",
     "output_type": "stream",
     "text": [
      "[0.7301700072365448, 0.728255001061418, 0.73007000331152, 0.7290600059614828, 0.7277900076614278, 0.7275100031363912]\n",
      "best min_samples: 2\n"
     ]
    }
   ],
   "source": [
    "print(min_samples_scores)\n",
    "print(\"best min_samples: %d\" % min_samples_sp[np.argmax(min_samples_scores)])\n",
    "best_min_samples = min_samples_sp[np.argmax(min_samples_scores)]"
   ]
  },
  {
   "cell_type": "code",
   "execution_count": 342,
   "metadata": {
    "collapsed": true
   },
   "outputs": [],
   "source": [
    "rlClf = Pipeline([('scaling', StandardScaler()),\n",
    "  ('classification', RandomForestClassifier(n_estimators=best_n_est, max_depth=best_depth, min_samples_split=best_min_samples))\n",
    "])"
   ]
  },
  {
   "cell_type": "markdown",
   "metadata": {},
   "source": [
    "## Ada Boosting"
   ]
  },
  {
   "cell_type": "code",
   "execution_count": 334,
   "metadata": {
    "collapsed": true
   },
   "outputs": [],
   "source": [
    "adaClf = Pipeline([('scaling', StandardScaler()),\n",
    "  ('classification', AdaBoostClassifier())\n",
    "])"
   ]
  },
  {
   "cell_type": "code",
   "execution_count": 329,
   "metadata": {},
   "outputs": [
    {
     "data": {
      "text/plain": [
       "array([0.68743156, 0.69256154, 0.6897669 ])"
      ]
     },
     "execution_count": 329,
     "metadata": {},
     "output_type": "execute_result"
    }
   ],
   "source": [
    "cross_val_score(clf, X, Y)"
   ]
  },
  {
   "cell_type": "code",
   "execution_count": null,
   "metadata": {
    "collapsed": true
   },
   "outputs": [],
   "source": []
  },
  {
   "cell_type": "markdown",
   "metadata": {},
   "source": [
    "## Combinations"
   ]
  },
  {
   "cell_type": "code",
   "execution_count": 46,
   "metadata": {
    "collapsed": true
   },
   "outputs": [],
   "source": [
    "xBoostClf = Pipeline([('scaling', StandardScaler()),\n",
    "  ('classification', GradientBoostingClassifier())\n",
    "])\n",
    "\n",
    "rfClf = Pipeline([('scaling', StandardScaler()),\n",
    "  ('classification', RandomForestClassifier())\n",
    "])\n",
    "\n",
    "adaClf = Pipeline([('scaling', StandardScaler()),\n",
    "  ('classification', AdaBoostClassifier())\n",
    "])"
   ]
  },
  {
   "cell_type": "code",
   "execution_count": 47,
   "metadata": {},
   "outputs": [
    {
     "data": {
      "text/plain": [
       "Pipeline(memory=None,\n",
       "     steps=[('scaling', StandardScaler(copy=True, with_mean=True, with_std=True)), ('classification', AdaBoostClassifier(algorithm='SAMME.R', base_estimator=None,\n",
       "          learning_rate=1.0, n_estimators=50, random_state=None))])"
      ]
     },
     "execution_count": 47,
     "metadata": {},
     "output_type": "execute_result"
    }
   ],
   "source": [
    "adaClf.fit(X_train, Y_train);"
   ]
  },
  {
   "cell_type": "code",
   "execution_count": 48,
   "metadata": {},
   "outputs": [
    {
     "data": {
      "text/plain": [
       "0.68430000000000002"
      ]
     },
     "execution_count": 48,
     "metadata": {},
     "output_type": "execute_result"
    }
   ],
   "source": [
    "adaClf.score(X_val, Y_val)"
   ]
  },
  {
   "cell_type": "code",
   "execution_count": 49,
   "metadata": {},
   "outputs": [
    {
     "data": {
      "text/plain": [
       "Pipeline(memory=None,\n",
       "     steps=[('scaling', StandardScaler(copy=True, with_mean=True, with_std=True)), ('classification', RandomForestClassifier(bootstrap=True, class_weight=None, criterion='gini',\n",
       "            max_depth=None, max_features='auto', max_leaf_nodes=None,\n",
       "            min_impurity_decrease=0.0, min_impurity_split...n_jobs=1,\n",
       "            oob_score=False, random_state=None, verbose=0,\n",
       "            warm_start=False))])"
      ]
     },
     "execution_count": 49,
     "metadata": {},
     "output_type": "execute_result"
    }
   ],
   "source": [
    "rfClf.fit(X_train, Y_train);"
   ]
  },
  {
   "cell_type": "code",
   "execution_count": 50,
   "metadata": {},
   "outputs": [
    {
     "data": {
      "text/plain": [
       "0.67815000000000003"
      ]
     },
     "execution_count": 50,
     "metadata": {},
     "output_type": "execute_result"
    }
   ],
   "source": [
    "rfClf.score(X_val, Y_val)"
   ]
  },
  {
   "cell_type": "code",
   "execution_count": 51,
   "metadata": {},
   "outputs": [
    {
     "data": {
      "text/plain": [
       "Pipeline(memory=None,\n",
       "     steps=[('scaling', StandardScaler(copy=True, with_mean=True, with_std=True)), ('classification', GradientBoostingClassifier(criterion='friedman_mse', init=None,\n",
       "              learning_rate=0.1, loss='deviance', max_depth=3,\n",
       "              max_features=None, max_leaf_nodes=None,\n",
       "              min_impu...      presort='auto', random_state=None, subsample=1.0, verbose=0,\n",
       "              warm_start=False))])"
      ]
     },
     "execution_count": 51,
     "metadata": {},
     "output_type": "execute_result"
    }
   ],
   "source": [
    "xBoostClf.fit(X_train, Y_train);"
   ]
  },
  {
   "cell_type": "code",
   "execution_count": 52,
   "metadata": {},
   "outputs": [
    {
     "data": {
      "text/plain": [
       "0.69494999999999996"
      ]
     },
     "execution_count": 52,
     "metadata": {},
     "output_type": "execute_result"
    }
   ],
   "source": [
    "xBoostClf.score(X_val, Y_val);"
   ]
  },
  {
   "cell_type": "code",
   "execution_count": 89,
   "metadata": {},
   "outputs": [],
   "source": [
    "rf = RandomForestClassifier(n_estimators=19, max_depth=5).fit(X_train, Y_train)\n",
    "ada = AdaBoostClassifier(n_estimators=19).fit(X_train, Y_train)\n",
    "xb = GradientBoostingClassifier(n_estimators=19, max_depth=5).fit(X_train, Y_train)\n",
    "models = [rf, ada, xb]\n",
    "predictions = []\n",
    "for x in X_val:\n",
    "    preds = [0,0]\n",
    "    for model in models:\n",
    "        pred = model.predict(x.reshape(1,14)).astype(int)\n",
    "        preds[pred[0]] = preds[pred[0]] + 1\n",
    "    predictions.append(np.argmax(preds))"
   ]
  },
  {
   "cell_type": "code",
   "execution_count": 90,
   "metadata": {},
   "outputs": [],
   "source": [
    "predictions = np.array(predictions)"
   ]
  },
  {
   "cell_type": "code",
   "execution_count": 91,
   "metadata": {},
   "outputs": [
    {
     "name": "stdout",
     "output_type": "stream",
     "text": [
      "0.68855\n"
     ]
    }
   ],
   "source": [
    "acc = (predictions == Y_val).sum().astype(float) / Y_val.shape[0]\n",
    "print(acc)"
   ]
  },
  {
   "cell_type": "code",
   "execution_count": 69,
   "metadata": {},
   "outputs": [
    {
     "data": {
      "text/plain": [
       "array([3, 3, 3, 3, 3, 3, 3, 3, 2, 3])"
      ]
     },
     "execution_count": 69,
     "metadata": {},
     "output_type": "execute_result"
    }
   ],
   "source": [
    "predictions[10:20]"
   ]
  },
  {
   "cell_type": "code",
   "execution_count": null,
   "metadata": {
    "collapsed": true
   },
   "outputs": [],
   "source": []
  }
 ],
 "metadata": {
  "kernelspec": {
   "display_name": "Python (py2)",
   "language": "python",
   "name": "py2"
  },
  "language_info": {
   "codemirror_mode": {
    "name": "ipython",
    "version": 2
   },
   "file_extension": ".py",
   "mimetype": "text/x-python",
   "name": "python",
   "nbconvert_exporter": "python",
   "pygments_lexer": "ipython2",
   "version": "2.7.14"
  }
 },
 "nbformat": 4,
 "nbformat_minor": 2
}
