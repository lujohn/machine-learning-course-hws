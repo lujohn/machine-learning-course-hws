{
 "cells": [
  {
   "cell_type": "code",
   "execution_count": 1,
   "metadata": {
    "collapsed": true
   },
   "outputs": [],
   "source": [
    "# Name: John Lu\n",
    "# Student ID: 21796268"
   ]
  },
  {
   "cell_type": "code",
   "execution_count": 5,
   "metadata": {
    "collapsed": true
   },
   "outputs": [],
   "source": [
    "import numpy as np\n",
    "import matplotlib.pyplot as plt\n",
    "\n",
    "import mltools as ml\n",
    "import data\n",
    "\n",
    "%matplotlib inline"
   ]
  },
  {
   "cell_type": "markdown",
   "metadata": {},
   "source": [
    "### Some Utility Functions"
   ]
  },
  {
   "cell_type": "code",
   "execution_count": 6,
   "metadata": {
    "collapsed": true
   },
   "outputs": [],
   "source": [
    "def plot_predictions(lr, X, xlabel=\"\", ylabel=\"\", title=\"\"):\n",
    "    \"\"\"\n",
    "    Inputs:\n",
    "        lr - trained linear regression model\n",
    "        X - Data to make predictions on\n",
    "    \n",
    "    This functions plots the given data with the predictions\n",
    "    made by the linear regression model\n",
    "    \"\"\"\n",
    "    predict_trn = lr.predict(X)\n",
    "    plt.plot(X[:,0], predict_trn)\n",
    "    ax = plt.gca()\n",
    "    ax.set_xlabel(xlabel)\n",
    "    ax.set_ylabel(ylabel)\n",
    "    ax.set_title(title)"
   ]
  },
  {
   "cell_type": "code",
   "execution_count": 103,
   "metadata": {
    "collapsed": true
   },
   "outputs": [],
   "source": [
    "def plot_polynomial_function(lr, degree=1, scale=None):\n",
    "    \"\"\"\n",
    "    Inputs:\n",
    "        lr - trained linear regression model\n",
    "        degree - the highest degree polynomial feature\n",
    "        scale - (optional) used to reproduce scaling transformation\n",
    "        \n",
    "    Plots the fitted polynomial function.\n",
    "    \"\"\"\n",
    "    # Generate x values\n",
    "    xs = np.linspace(0, 10, 200)\n",
    "    \n",
    "    # Calculate the powers of x up to inputted degree\n",
    "    Xpoly = np.zeros((xs.shape[0], degree))\n",
    "    for i in range(degree):\n",
    "        Xpoly[:,i] = xs ** (i+1)\n",
    "    \n",
    "    # Rescale\n",
    "    Xpoly, _ = ml.transforms.rescale(Xpoly, scale)\n",
    "    \n",
    "    # Generate predictions using all powers of x up to \"degree\"\n",
    "    # and plot against x.\n",
    "    predictions = lr.predict(Xpoly)\n",
    "    plt.plot(xs, predictions)\n",
    "    \n",
    "    ax = plt.gca()\n",
    "    ax.set_ylim(ymin=-5, ymax=15)"
   ]
  },
  {
   "cell_type": "markdown",
   "metadata": {},
   "source": [
    "# Problem 1: Linear Regression"
   ]
  },
  {
   "cell_type": "markdown",
   "metadata": {},
   "source": [
    "## Part 1"
   ]
  },
  {
   "cell_type": "code",
   "execution_count": 8,
   "metadata": {
    "collapsed": true
   },
   "outputs": [],
   "source": [
    "data = np.genfromtxt('data/curve80.txt')"
   ]
  },
  {
   "cell_type": "code",
   "execution_count": 9,
   "metadata": {},
   "outputs": [
    {
     "name": "stdout",
     "output_type": "stream",
     "text": [
      "(80, 2)\n"
     ]
    }
   ],
   "source": [
    "print(data.shape)"
   ]
  },
  {
   "cell_type": "code",
   "execution_count": 10,
   "metadata": {},
   "outputs": [
    {
     "name": "stdout",
     "output_type": "stream",
     "text": [
      "[ 3.4447005  4.7580645  6.4170507  5.7949309  7.7304147]\n",
      "[[ 3.4447005]\n",
      " [ 4.7580645]\n",
      " [ 6.4170507]\n",
      " [ 5.7949309]\n",
      " [ 7.7304147]]\n",
      "[-0.88011696  0.46491228  3.7397661   3.0087719   2.9210526 ]\n"
     ]
    }
   ],
   "source": [
    "X = data[:,0]\n",
    "print(X[:5])\n",
    "\n",
    "# code expects shape (M,N) so make sure it's 2-dimensional Y = data[:,1]\n",
    "X = np.atleast_2d(X).T \n",
    "print(X[:5])\n",
    "\n",
    "Y = data[:, 1]\n",
    "print(Y[:5])\n",
    "\n",
    "Xtr,Xte,Ytr,Yte = ml.splitData(X,Y,0.75) # split data set 75/25"
   ]
  },
  {
   "cell_type": "markdown",
   "metadata": {},
   "source": [
    "## Part 2"
   ]
  },
  {
   "cell_type": "code",
   "execution_count": 27,
   "metadata": {
    "collapsed": true
   },
   "outputs": [],
   "source": [
    "# create and train model\n",
    "lr = ml.linear.linearRegress( Xtr, Ytr ) \n",
    "\n",
    "# densely sample possible x-values\n",
    "xs = np.linspace(0,10,200)\n",
    "\n",
    "# force \"xs\" to be an Mx1 matrix (expected by our code) \n",
    "xs = xs[:,np.newaxis]\n",
    "\n",
    "# make predictions at xs\n",
    "ys = lr.predict( xs )"
   ]
  },
  {
   "cell_type": "markdown",
   "metadata": {},
   "source": [
    "### (a) Plot the training data points along with your prediction function in a single plot"
   ]
  },
  {
   "cell_type": "code",
   "execution_count": 28,
   "metadata": {},
   "outputs": [
    {
     "data": {
      "image/png": "[encoded data removed]",
      "text/plain": [
       "<matplotlib.figure.Figure at 0x11c27e0f0>"
      ]
     },
     "metadata": {},
     "output_type": "display_data"
    }
   ],
   "source": [
    "plot_predictions(lr, Xtr, \n",
    "                 xlabel='Feature x', \n",
    "                 ylabel='Prediction', \n",
    "                 title='Training Data Predictions')"
   ]
  },
  {
   "cell_type": "markdown",
   "metadata": {},
   "source": [
    "### (b) Print the linear regression coefficients and verify that they match your plot."
   ]
  },
  {
   "cell_type": "code",
   "execution_count": 29,
   "metadata": {},
   "outputs": [
    {
     "name": "stdout",
     "output_type": "stream",
     "text": [
      "[[-2.82765049  0.83606916]]\n"
     ]
    }
   ],
   "source": [
    "print(lr.theta)"
   ]
  },
  {
   "cell_type": "markdown",
   "metadata": {},
   "source": [
    "An intercept of -2.823 and slope of 0.836 match the plot in part (a). By inspection, an intercept of -2.823 appears correct. To verify the slope, we shall use the linear regressor to make a prediction at x = 2. Based on the graph, the prediction should be between -2 and -1 (closer to -1) "
   ]
  },
  {
   "cell_type": "code",
   "execution_count": 30,
   "metadata": {},
   "outputs": [
    {
     "name": "stdout",
     "output_type": "stream",
     "text": [
      "[[-1.15551217]]\n"
     ]
    }
   ],
   "source": [
    "print(lr.predict(np.array([[2]])))"
   ]
  },
  {
   "cell_type": "markdown",
   "metadata": {},
   "source": [
    "### (c) What is the mean squared error of the predictions on the training and test data?\n",
    "\n",
    "LinearRegress class inherits from regressor, which has an mse method."
   ]
  },
  {
   "cell_type": "code",
   "execution_count": 31,
   "metadata": {},
   "outputs": [
    {
     "data": {
      "text/plain": [
       "1.1277119556093911"
      ]
     },
     "execution_count": 31,
     "metadata": {},
     "output_type": "execute_result"
    }
   ],
   "source": [
    "lr.mse(Xtr, Ytr)"
   ]
  },
  {
   "cell_type": "markdown",
   "metadata": {},
   "source": [
    "## Part 3\n",
    "\n",
    "Try fitting y = f (x) using a polynomial function f (x) of increasing order. Do this by the trick of adding additional polynomial features before constructing and training the linear regression object. You can do this easily yourself; you can add a quadratic feature of Xtr with"
   ]
  },
  {
   "cell_type": "markdown",
   "metadata": {},
   "source": [
    "Below is a plot of of our model trained with on features $x$ and $x^2$ and a bias."
   ]
  },
  {
   "cell_type": "code",
   "execution_count": 74,
   "metadata": {},
   "outputs": [
    {
     "data": {
      "image/png": "[encoded data removed]",
      "text/plain": [
       "<matplotlib.figure.Figure at 0x11bf83a58>"
      ]
     },
     "metadata": {},
     "output_type": "display_data"
    }
   ],
   "source": [
    "degree = 2\n",
    "Xtr_deg2 = ml.transforms.fpoly(Xtr, degree, bias=False)\n",
    "\n",
    "# Scale the features\n",
    "Xtr_deg2_scaled, params = ml.transforms.rescale(Xtr_deg2)\n",
    "\n",
    "# Train the model\n",
    "lr = ml.linear.linearRegress(Xtr_deg2_scaled, Ytr)\n",
    "\n",
    "# Plot the function\n",
    "plot_polynomial_function(lr, degree=degree, scale=params)"
   ]
  },
  {
   "cell_type": "markdown",
   "metadata": {},
   "source": [
    "We now train polynomial regression models of degree d = [1,3,5,7,10,18]"
   ]
  },
  {
   "cell_type": "code",
   "execution_count": 188,
   "metadata": {},
   "outputs": [],
   "source": [
    "degrees = [1,3,5,7,10,18]\n",
    "models = {}\n",
    "for d in degrees:\n",
    "    Xtr_deg_d = ml.transforms.fpoly(Xtr, d, bias=False)\n",
    "    Xtr_deg_d_scaled, scale = ml.transforms.rescale(Xtr_deg_d)\n",
    "    lr = ml.linear.linearRegress(Xtr_deg_d_scaled, Ytr)\n",
    "    \n",
    "    # Save the model. Also store the scaling parameters to\n",
    "    # scale test data later.\n",
    "    models[d] = (lr, scale)"
   ]
  },
  {
   "cell_type": "markdown",
   "metadata": {},
   "source": [
    "### (a) For each model, plot the learned prediction function $f(x)$"
   ]
  },
  {
   "cell_type": "code",
   "execution_count": 189,
   "metadata": {
    "scrolled": false
   },
   "outputs": [
    {
     "data": {
      "image/png": "[encoded data removed]",
      "text/plain": [
       "<matplotlib.figure.Figure at 0x11dd6c860>"
      ]
     },
     "metadata": {},
     "output_type": "display_data"
    }
   ],
   "source": [
    "num_models = len(models)\n",
    "model_num = 1\n",
    "\n",
    "plt.figure(figsize=(8,16))\n",
    "for deg, (model, scale) in models.items():\n",
    "    plt.subplot(num_models, 1, model_num)\n",
    "    plot_polynomial_function(model, degree=deg, scale=scale)\n",
    "    \n",
    "    # Add labels and title\n",
    "    ax = plt.gca()\n",
    "    ax.set_title('d = ' + str(deg))\n",
    "    ax.set_xlabel('x')\n",
    "    ax.set_ylabel('y')\n",
    "\n",
    "    model_num = model_num + 1\n",
    "    \n",
    "plt.tight_layout()"
   ]
  },
  {
   "cell_type": "markdown",
   "metadata": {},
   "source": [
    "### (b) Plot the training and test errors on a log scale (semilogy) as a function of the model degree."
   ]
  },
  {
   "cell_type": "code",
   "execution_count": 196,
   "metadata": {
    "scrolled": true
   },
   "outputs": [
    {
     "name": "stdout",
     "output_type": "stream",
     "text": [
      "deg1 train error: 1.12771195561\n",
      "deg1 test error1: 2.24234920301\n"
     ]
    }
   ],
   "source": [
    "# Save the train and test errors as 2-tuples, where the first\n",
    "# element is the degree of the fitted polynomial, and the 2nd\n",
    "# element is the error.\n",
    "train_errors = []\n",
    "test_errors = []\n",
    "\n",
    "for deg, (model, scale) in models.items():\n",
    "    # Generate the Polynomial Features for train and test data\n",
    "    Xpoly_tr = ml.transforms.fpoly(Xtr, deg, bias=False)\n",
    "    Xpoly_te = ml.transforms.fpoly(Xte, deg, bias=False)\n",
    "    \n",
    "    # Scale the training and test data using the correct\n",
    "    # scaling parameters\n",
    "    Xtr_scaled, _ = ml.transforms.rescale(Xpoly_tr, scale)\n",
    "    Xte_scaled, _ = ml.transforms.rescale(Xpoly_te, scale)\n",
    "    \n",
    "    # ------------- Training Error --------------\n",
    "    train_err = model.mse(Xtr_scaled, Ytr)\n",
    "    train_errors.append((deg, train_err))\n",
    "    \n",
    "    # --------------- Test Error ----------------\n",
    "    test_err = model.mse(Xte_scaled, Yte)\n",
    "    test_errors.append((deg, test_err))\n",
    "    \n",
    "    \n",
    "print('deg1 train error: ' + str(train_errors[0][1]))\n",
    "print('deg1 test error1: ' + str(test_errors[0][1]))"
   ]
  },
  {
   "cell_type": "markdown",
   "metadata": {},
   "source": [
    "Let's plot the errors!"
   ]
  },
  {
   "cell_type": "code",
   "execution_count": 198,
   "metadata": {},
   "outputs": [
    {
     "data": {
      "text/plain": [
       "<matplotlib.legend.Legend at 0x11d570588>"
      ]
     },
     "execution_count": 198,
     "metadata": {},
     "output_type": "execute_result"
    },
    {
     "data": {
      "image/png": "[encoded data removed]",
      "text/plain": [
       "<matplotlib.figure.Figure at 0x11d5946d8>"
      ]
     },
     "metadata": {},
     "output_type": "display_data"
    }
   ],
   "source": [
    "degs, train_errors = zip(*train_errors)\n",
    "_, test_errors = zip(*test_errors)\n",
    "\n",
    "plt.semilogy(degs, train_errors, label='train error')\n",
    "plt.semilogy(degs, test_errors, label='test error')\n",
    "\n",
    "ax = plt.gca()\n",
    "ax.set_xlabel('poly degree')\n",
    "ax.set_ylabel('mean squared error')\n",
    "plt.legend()"
   ]
  },
  {
   "cell_type": "markdown",
   "metadata": {},
   "source": [
    "### (c) What polynomial degree do you recommend?"
   ]
  },
  {
   "cell_type": "markdown",
   "metadata": {},
   "source": [
    "Based on the above plot, I recommend a polynomial of degree 10, where both the training and test errors reach a minimum."
   ]
  },
  {
   "cell_type": "markdown",
   "metadata": {},
   "source": [
    "# Problem 2: Cross-validation\n",
    "\n",
    "Find the 5-fold cross-validation MSE of linear regression at the same degrees as before, d = 1, 3, 5, 7, 10, 18. To make your code more readable, write a function that takes the degree and number of folds as arguments, and returns the cross-validation error."
   ]
  },
  {
   "cell_type": "code",
   "execution_count": 169,
   "metadata": {
    "collapsed": true
   },
   "outputs": [],
   "source": [
    "def cross_validation_error(degree=1, num_folds=3):\n",
    "    \"\"\"\n",
    "    This function takes a polynomial degree and number of folds\n",
    "    to use in cross validation as input and returns the cross\n",
    "    validation error\n",
    "    \"\"\"\n",
    "    J = np.zeros((num_folds,))\n",
    "    for iFold in range(num_folds):\n",
    "        # Generate the Polynomial Features for train and test data\n",
    "        Xpoly_tr = ml.transforms.fpoly(Xtr, deg, bias=False)\n",
    "        Xpoly_tr_scaled, _ = ml.transforms.rescale(Xpoly_tr)\n",
    "        \n",
    "        Xti, Xvi, Yti, Yvi = ml.crossValidate(Xpoly_tr, Ytr, num_folds, iFold)\n",
    "        \n",
    "        # Train a linear regression model using Xti (already scaled)\n",
    "        lr = ml.linear.linearRegress(Xti, Yti)\n",
    "        \n",
    "        # Calculate the mse on the on Xvi, Yvi\n",
    "        J[iFold] = lr.mse(Xvi, Yvi)\n",
    "    \n",
    "    return J.mean()\n",
    "        "
   ]
  },
  {
   "cell_type": "markdown",
   "metadata": {},
   "source": [
    "## Part 1\n",
    "\n",
    "Plot the five-fold cross-validation error as a function of degree"
   ]
  },
  {
   "cell_type": "code",
   "execution_count": 168,
   "metadata": {},
   "outputs": [
    {
     "name": "stdout",
     "output_type": "stream",
     "text": [
      "[1.211862662964198, 0.74290057520518005, 0.59107037265098472, 0.73356378093235075, 0.76770675021527401, 1.5121435028819601]\n"
     ]
    },
    {
     "data": {
      "image/png": "[encoded data removed]",
      "text/plain": [
       "<matplotlib.figure.Figure at 0x11c01f898>"
      ]
     },
     "metadata": {},
     "output_type": "display_data"
    }
   ],
   "source": [
    "cross_val_errors = []\n",
    "for deg in degrees:\n",
    "    err = cross_validation_error(degree=deg, num_folds=5)\n",
    "    cross_val_errors.append(err)\n",
    "\n",
    "plt.semilogy(degrees, cross_val_errors, label=\"cross_val_error\")\n",
    "\n",
    "ax = plt.gca()\n",
    "ax.set_xlabel('poly degree')\n",
    "ax.set_ylabel('mean squared error')\n",
    "plt.legend()\n",
    "\n",
    "print(cross_val_errors)"
   ]
  },
  {
   "cell_type": "markdown",
   "metadata": {},
   "source": [
    "## Part 2"
   ]
  },
  {
   "cell_type": "markdown",
   "metadata": {},
   "source": [
    "The MSE estimates from the five-fold cross-validation are an order of magnitude lower than the MSEs evaluated on the actual test data."
   ]
  },
  {
   "cell_type": "markdown",
   "metadata": {},
   "source": [
    "## Part 3\n",
    "\n",
    "Based on the five-fold cross-validation error plot, I would recommend polynomial degree = 5"
   ]
  },
  {
   "cell_type": "markdown",
   "metadata": {},
   "source": [
    "## Part 4\n",
    "\n",
    "Using the degree picked in part 3, plot the cross-validation error as the number of folds vary. What pattern do you observe?"
   ]
  },
  {
   "cell_type": "code",
   "execution_count": 201,
   "metadata": {},
   "outputs": [
    {
     "data": {
      "text/plain": [
       "<matplotlib.legend.Legend at 0x1187594a8>"
      ]
     },
     "execution_count": 201,
     "metadata": {},
     "output_type": "execute_result"
    },
    {
     "data": {
      "image/png": "[encoded data removed]",
      "text/plain": [
       "<matplotlib.figure.Figure at 0x11dc9ef98>"
      ]
     },
     "metadata": {},
     "output_type": "display_data"
    }
   ],
   "source": [
    "num_folds = [2, 3, 4, 5, 6, 10, 12, 15]\n",
    "deg = 5\n",
    "\n",
    "cross_val_errors = []\n",
    "for num_fold in num_folds:\n",
    "    err = cross_validation_error(degree=deg, num_folds=num_fold)\n",
    "    cross_val_errors.append(err)\n",
    "\n",
    "plt.semilogy(num_folds, cross_val_errors, label=\"cross_val_error\")\n",
    "ax = plt.gca()\n",
    "ax.set_xlabel('Number of Folds')\n",
    "ax.set_ylabel('mean squared error')\n",
    "plt.legend()"
   ]
  },
  {
   "cell_type": "markdown",
   "metadata": {},
   "source": [
    "Why?"
   ]
  },
  {
   "cell_type": "markdown",
   "metadata": {},
   "source": [
    "# Problem 3: Statement of Collaboration"
   ]
  },
  {
   "cell_type": "markdown",
   "metadata": {},
   "source": [
    "I did not work with anyone else. All work in this notebook is my own."
   ]
  },
  {
   "cell_type": "code",
   "execution_count": null,
   "metadata": {
    "collapsed": true
   },
   "outputs": [],
   "source": []
  }
 ],
 "metadata": {
  "kernelspec": {
   "display_name": "Python 3",
   "language": "python",
   "name": "python3"
  },
  "language_info": {
   "codemirror_mode": {
    "name": "ipython",
    "version": 3
   },
   "file_extension": ".py",
   "mimetype": "text/x-python",
   "name": "python",
   "nbconvert_exporter": "python",
   "pygments_lexer": "ipython3",
   "version": "3.6.3"
  }
 },
 "nbformat": 4,
 "nbformat_minor": 2
}
